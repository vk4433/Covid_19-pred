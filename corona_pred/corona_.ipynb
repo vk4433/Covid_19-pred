{
  "nbformat": 4,
  "nbformat_minor": 0,
  "metadata": {
    "colab": {
      "private_outputs": true,
      "provenance": []
    },
    "kernelspec": {
      "name": "python3",
      "display_name": "Python 3"
    },
    "language_info": {
      "name": "python"
    }
  },
  "cells": [
    {
      "cell_type": "markdown",
      "source": [
        "# importing libraries"
      ],
      "metadata": {
        "id": "AGMGbUNDnrti"
      }
    },
    {
      "cell_type": "code",
      "execution_count": null,
      "metadata": {
        "id": "e2xl5W-6TG__"
      },
      "outputs": [],
      "source": [
        "import pandas as pd\n",
        "import numpy as np\n",
        "import matplotlib.pyplot as plt\n",
        "import seaborn as sns\n",
        "from sklearn.model_selection import train_test_split\n",
        "from sklearn.preprocessing import StandardScaler\n",
        "from sklearn.linear_model import LogisticRegression\n",
        "from sklearn.metrics import confusion_matrix, accuracy_score, precision_score, recall_score, fbeta_score"
      ]
    },
    {
      "cell_type": "markdown",
      "source": [
        "#loading dataset"
      ],
      "metadata": {
        "id": "mPp4iLM5nyBK"
      }
    },
    {
      "cell_type": "code",
      "source": [
        "a=pd.read_csv(\"/content/corona_tested_006.csv\")"
      ],
      "metadata": {
        "id": "qjUnjhLaTmnX"
      },
      "execution_count": null,
      "outputs": []
    },
    {
      "cell_type": "code",
      "source": [
        "a.nunique()"
      ],
      "metadata": {
        "id": "qu6McQVVkynV"
      },
      "execution_count": null,
      "outputs": []
    },
    {
      "cell_type": "markdown",
      "source": [
        "# Data preprocessing"
      ],
      "metadata": {
        "id": "2a1Egtl0n4gm"
      }
    },
    {
      "cell_type": "code",
      "source": [
        "b=a.copy()"
      ],
      "metadata": {
        "id": "1SYJuR7Mk4WM"
      },
      "execution_count": null,
      "outputs": []
    },
    {
      "cell_type": "code",
      "source": [
        "b.shape"
      ],
      "metadata": {
        "id": "oqSVjveNk7vL"
      },
      "execution_count": null,
      "outputs": []
    },
    {
      "cell_type": "code",
      "source": [
        "b.head(2)"
      ],
      "metadata": {
        "id": "lJFV_vmHlDJk"
      },
      "execution_count": null,
      "outputs": []
    },
    {
      "cell_type": "code",
      "source": [
        "b.Corona.value_counts()"
      ],
      "metadata": {
        "id": "Rdb6TagGlLqh"
      },
      "execution_count": null,
      "outputs": []
    },
    {
      "cell_type": "code",
      "source": [
        "b.Sex.value_counts()"
      ],
      "metadata": {
        "id": "-nHJVbNvoQhq"
      },
      "execution_count": null,
      "outputs": []
    },
    {
      "cell_type": "code",
      "source": [
        "b.loc[b[\"Corona\"]==\"n\"]"
      ],
      "metadata": {
        "id": "MmKwDOm_lk8k"
      },
      "execution_count": null,
      "outputs": []
    },
    {
      "cell_type": "code",
      "source": [
        "b.isnull().sum()"
      ],
      "metadata": {
        "id": "yx3AENlym5f4"
      },
      "execution_count": null,
      "outputs": []
    },
    {
      "cell_type": "code",
      "source": [
        "b.dropna(inplace=True)"
      ],
      "metadata": {
        "id": "kYB1EHrqnFr9"
      },
      "execution_count": null,
      "outputs": []
    },
    {
      "cell_type": "code",
      "source": [
        "b=b.replace(\"None\",np.nan,regex=True)"
      ],
      "metadata": {
        "id": "qzccA9sancKa"
      },
      "execution_count": null,
      "outputs": []
    },
    {
      "cell_type": "code",
      "source": [
        "b.isnull().sum()"
      ],
      "metadata": {
        "id": "jMLcUSxGoe2j"
      },
      "execution_count": null,
      "outputs": []
    },
    {
      "cell_type": "code",
      "source": [
        "b[\"Sex\"]=b[\"Sex\"].fillna(b[\"Sex\"].mode()[0])\n",
        "b[\"Age_60_above\"]=b[\"Age_60_above\"].fillna(b[\"Age_60_above\"].mode()[0])\n",
        "b[\"Headache\"]=b[\"Headache\"].fillna(b[\"Headache\"].mode()[0])\n",
        "b[\"Shortness_of_breath\"]=b[\"Shortness_of_breath\"].fillna(b[\"Shortness_of_breath\"].mode()[0])\n",
        "b[\"Sore_throat\"]=b[\"Sore_throat\"].fillna(b[\"Sore_throat\"].mode()[0])\n",
        "b[\"Cough_symptoms\"]=b[\"Cough_symptoms\"].fillna(b[\"Cough_symptoms\"].mode()[0])\n",
        "b[\"Fever\"]=b[\"Fever\"].fillna(b[\"Fever\"].mode()[0])"
      ],
      "metadata": {
        "id": "F8ST3Mi6o7he"
      },
      "execution_count": null,
      "outputs": []
    },
    {
      "cell_type": "code",
      "source": [
        "b.isnull().sum()"
      ],
      "metadata": {
        "id": "mc55uTS_pC4D"
      },
      "execution_count": null,
      "outputs": []
    },
    {
      "cell_type": "code",
      "source": [
        "b.info()"
      ],
      "metadata": {
        "id": "eZZZEzJMpLRF"
      },
      "execution_count": null,
      "outputs": []
    },
    {
      "cell_type": "code",
      "source": [
        "b[\"Test_date\"]=pd.to_datetime(b[\"Test_date\"])"
      ],
      "metadata": {
        "id": "FDiadCUzpRfs"
      },
      "execution_count": null,
      "outputs": []
    },
    {
      "cell_type": "code",
      "source": [
        "b[\"year\"]=b[\"Test_date\"].dt.year"
      ],
      "metadata": {
        "id": "OaMTOsUNprzP"
      },
      "execution_count": null,
      "outputs": []
    },
    {
      "cell_type": "code",
      "source": [
        "b[\"month\"]=b[\"Test_date\"].dt.month\n",
        "b[\"day\"]=b[\"Test_date\"].dt.day"
      ],
      "metadata": {
        "id": "bbojWxPsp7Af"
      },
      "execution_count": null,
      "outputs": []
    },
    {
      "cell_type": "code",
      "source": [
        "b.head()"
      ],
      "metadata": {
        "id": "MeiY9AN8qPLU"
      },
      "execution_count": null,
      "outputs": []
    },
    {
      "cell_type": "code",
      "source": [
        "b=b.drop(columns=[\"Ind_ID\",\"Sex\",\"Age_60_above\",\"Age_60_above\",\"Test_date\"])"
      ],
      "metadata": {
        "id": "X2ksoKHmqgBm"
      },
      "execution_count": null,
      "outputs": []
    },
    {
      "cell_type": "code",
      "source": [
        "b.head(5)"
      ],
      "metadata": {
        "id": "gNqS3O9UtgHc"
      },
      "execution_count": null,
      "outputs": []
    },
    {
      "cell_type": "markdown",
      "source": [
        "# EDA"
      ],
      "metadata": {
        "id": "YIPk7NCBvUm0"
      }
    },
    {
      "cell_type": "code",
      "source": [
        "b.Corona.value_counts().plot(kind=\"bar\")"
      ],
      "metadata": {
        "id": "o01yk5u5vY1q"
      },
      "execution_count": null,
      "outputs": []
    },
    {
      "cell_type": "code",
      "source": [
        "b.Corona.value_counts()/len(b[\"Corona\"])*100"
      ],
      "metadata": {
        "id": "lLEXqUjSwWSA"
      },
      "execution_count": null,
      "outputs": []
    },
    {
      "cell_type": "code",
      "source": [
        "b.month.value_counts()"
      ],
      "metadata": {
        "id": "LFUEo5bJxXoc"
      },
      "execution_count": null,
      "outputs": []
    },
    {
      "cell_type": "code",
      "source": [
        "b.month.value_counts().plot(kind=\"bar\")"
      ],
      "metadata": {
        "id": "vVM_38WOwxLt"
      },
      "execution_count": null,
      "outputs": []
    },
    {
      "cell_type": "code",
      "source": [
        "c=b.copy()"
      ],
      "metadata": {
        "id": "TzTg7O0xxnvX"
      },
      "execution_count": null,
      "outputs": []
    },
    {
      "cell_type": "code",
      "source": [
        "for i, predictor in enumerate(c):\n",
        "    plt.figure(i)\n",
        "    sns.countplot(data=c, x=predictor, hue='Corona')"
      ],
      "metadata": {
        "id": "1Lkt1w5uxuVg"
      },
      "execution_count": null,
      "outputs": []
    },
    {
      "cell_type": "code",
      "source": [
        "c.head(2)"
      ],
      "metadata": {
        "id": "CP_dVXBS0tU_"
      },
      "execution_count": null,
      "outputs": []
    },
    {
      "cell_type": "code",
      "source": [
        "from sklearn.preprocessing import LabelEncoder"
      ],
      "metadata": {
        "id": "n8vOaIvT2iQS"
      },
      "execution_count": null,
      "outputs": []
    },
    {
      "cell_type": "code",
      "source": [
        "le=LabelEncoder()\n",
        "c[\"Corona\"]=le.fit_transform(c[\"Corona\"])"
      ],
      "metadata": {
        "id": "yg6aR5ze3ALg"
      },
      "execution_count": null,
      "outputs": []
    },
    {
      "cell_type": "code",
      "source": [
        "c.Corona.value_counts()"
      ],
      "metadata": {
        "id": "oXIJ8f_U3FYt"
      },
      "execution_count": null,
      "outputs": []
    },
    {
      "cell_type": "code",
      "source": [
        "d=pd.get_dummies(c,drop_first=True)\n",
        "d"
      ],
      "metadata": {
        "id": "M2M6S0y51JfH"
      },
      "execution_count": null,
      "outputs": []
    },
    {
      "cell_type": "code",
      "source": [
        "d.shape"
      ],
      "metadata": {
        "id": "63H2hQVY1gJM"
      },
      "execution_count": null,
      "outputs": []
    },
    {
      "cell_type": "code",
      "source": [
        "x=d.drop(\"Corona\",axis=1)\n",
        "y=d[\"Corona\"]"
      ],
      "metadata": {
        "id": "RKvW8apb116C"
      },
      "execution_count": null,
      "outputs": []
    },
    {
      "cell_type": "code",
      "source": [
        "(x.shape),(y.shape)"
      ],
      "metadata": {
        "id": "M9NaU4Y63aN7"
      },
      "execution_count": null,
      "outputs": []
    },
    {
      "cell_type": "code",
      "source": [
        "x_train,x_test,y_train,y_test=train_test_split(x,y,test_size=0.2)"
      ],
      "metadata": {
        "id": "9kNzgt1C3zlI"
      },
      "execution_count": null,
      "outputs": []
    },
    {
      "cell_type": "code",
      "source": [
        "scale=StandardScaler()"
      ],
      "metadata": {
        "id": "iTm1_vUV4wCv"
      },
      "execution_count": null,
      "outputs": []
    },
    {
      "cell_type": "code",
      "source": [
        "x_train=scale.fit_transform(x_train)\n",
        "x_train"
      ],
      "metadata": {
        "id": "62KTlOPR45GS"
      },
      "execution_count": null,
      "outputs": []
    },
    {
      "cell_type": "code",
      "source": [
        "x_test=scale.transform(x_test)\n",
        "x_test"
      ],
      "metadata": {
        "id": "oBXRJW9M5HaB"
      },
      "execution_count": null,
      "outputs": []
    },
    {
      "cell_type": "code",
      "source": [
        "lgr=LogisticRegression(random_state=0)"
      ],
      "metadata": {
        "id": "yhR94rvV6shH"
      },
      "execution_count": null,
      "outputs": []
    },
    {
      "cell_type": "code",
      "source": [
        "lgr.fit(x_train,y_train)"
      ],
      "metadata": {
        "id": "iIyLeYp460v1"
      },
      "execution_count": null,
      "outputs": []
    },
    {
      "cell_type": "code",
      "source": [
        "lgrp=lgr.predict(x_test)"
      ],
      "metadata": {
        "id": "AVRZf5ED7-GN"
      },
      "execution_count": null,
      "outputs": []
    },
    {
      "cell_type": "code",
      "source": [
        "lgrp"
      ],
      "metadata": {
        "id": "y1ppEq6Q8wPt"
      },
      "execution_count": null,
      "outputs": []
    },
    {
      "cell_type": "markdown",
      "source": [
        "# confusion matrix"
      ],
      "metadata": {
        "id": "XvjWVf5wBgDm"
      }
    },
    {
      "cell_type": "code",
      "source": [
        "cunfuse_matrix=confusion_matrix(y_test,lgrp)"
      ],
      "metadata": {
        "id": "fzEsOFXD8PVz"
      },
      "execution_count": null,
      "outputs": []
    },
    {
      "cell_type": "code",
      "source": [
        "cunfuse_matrix"
      ],
      "metadata": {
        "id": "rYO7pwUh8pg-"
      },
      "execution_count": null,
      "outputs": []
    },
    {
      "cell_type": "markdown",
      "source": [
        "# Accuracy"
      ],
      "metadata": {
        "id": "6x41r8YpA-Ya"
      }
    },
    {
      "cell_type": "code",
      "source": [
        "print(round(accuracy_score(y_test, lgrp), 2))"
      ],
      "metadata": {
        "id": "DD4Al_709jTW"
      },
      "execution_count": null,
      "outputs": []
    },
    {
      "cell_type": "markdown",
      "source": [
        "# Recall"
      ],
      "metadata": {
        "id": "WGhvEacpBDpY"
      }
    },
    {
      "cell_type": "code",
      "source": [
        "print(round(recall_score(y_test, lgrp, average='micro'), 2))"
      ],
      "metadata": {
        "id": "_vr_mP4O_vSf"
      },
      "execution_count": null,
      "outputs": []
    },
    {
      "cell_type": "markdown",
      "source": [
        "# precision score"
      ],
      "metadata": {
        "id": "z640_E7oB0b3"
      }
    },
    {
      "cell_type": "code",
      "source": [
        "print(round(precision_score(y_test, lgrp, average='micro'), 2))"
      ],
      "metadata": {
        "id": "CRhWplEUBrAz"
      },
      "execution_count": null,
      "outputs": []
    },
    {
      "cell_type": "markdown",
      "source": [
        "#fbeta_score"
      ],
      "metadata": {
        "id": "awoxIKrpB_Jz"
      }
    },
    {
      "cell_type": "code",
      "source": [
        "print(round(fbeta_score(y_test, lgrp,beta=1,average='micro'), 2))"
      ],
      "metadata": {
        "id": "6mXGLeIOCA16"
      },
      "execution_count": null,
      "outputs": []
    },
    {
      "cell_type": "code",
      "source": [],
      "metadata": {
        "id": "eGJ4UEHCCWT2"
      },
      "execution_count": null,
      "outputs": []
    },
    {
      "cell_type": "markdown",
      "source": [
        "# f1 score"
      ],
      "metadata": {
        "id": "tKLW3pukCrGA"
      }
    },
    {
      "cell_type": "code",
      "source": [
        "from sklearn.metrics import f1_score\n",
        "print(round(f1_score(y_test, lgrp,average='micro'), 2))"
      ],
      "metadata": {
        "id": "sWMTD7Us98Q1"
      },
      "execution_count": null,
      "outputs": []
    }
  ]
}